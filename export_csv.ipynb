{
 "cells": [
  {
   "cell_type": "code",
   "execution_count": 1,
   "id": "1adddf56-5592-4568-ba77-bc780c20e013",
   "metadata": {},
   "outputs": [],
   "source": [
    "import pandas as pd"
   ]
  },
  {
   "cell_type": "code",
   "execution_count": 2,
   "id": "a1bc6eff-8091-458e-a0f1-25876040d019",
   "metadata": {},
   "outputs": [
    {
     "data": {
      "text/plain": "   Matricula  ID Materia  Fecha y hora de registro  Calificacion  \\\n0  D95080487        2347  17/06/2008 04:20:55 p.m.          90.0   \n1  D08080704        2346  18/06/2008 12:27:05 p.m.          98.0   \n2  G08080750        2337  18/06/2008 08:24:38 p.m.         100.0   \n3  G08080716        2336  24/06/2008 07:37:51 p.m.          95.0   \n4  D08080704        2345  24/06/2008 07:23:46 p.m.         100.0   \n\n   Num. De oportunidad Grupo  Semestre  Ingreso anterior (ya egresados)  \\\n0                    1   DB1         2                               23   \n1                    1   DB1         1                               22   \n2                    1   DB1         1                               22   \n3                    1   DB1         1                               22   \n4                    1   DB1         1                               22   \n\n  Clave de materia                               Nombre de la Materia  \\\n0           DAB-03                         SEMINARIO DE INVESTIGACION   \n1           DAB-02  FUNDAMENTOS DE LA CIENCIA Y TECNOLOGIA DE LOS ...   \n2           DAB-03                         SEMINARIO DE INVESTIGACION   \n3           DAB-01         CIENCIA,TECNOLOGIA, SOCIEDAD  E INNOVACION   \n4           DAB-01         CIENCIA,TECNOLOGIA, SOCIEDAD  E INNOVACION   \n\n   Creditos                               Programa de estudios  \\\n0        26  DAB-2007-1-DOCTORADO EN CIENCIAS DE LOS ALIMEN...   \n1         6  DAB-2007-1-DOCTORADO EN CIENCIAS DE LOS ALIMEN...   \n2        26  DAB-2007-1-DOCTORADO EN CIENCIAS DE LOS ALIMEN...   \n3         3  DAB-2007-1-DOCTORADO EN CIENCIAS DE LOS ALIMEN...   \n4         3  DAB-2007-1-DOCTORADO EN CIENCIAS DE LOS ALIMEN...   \n\n   Ciclo escolar de la materia  \n0                        20081  \n1                        20081  \n2                        20081  \n3                        20081  \n4                        20081  ",
      "text/html": "<div>\n<style scoped>\n    .dataframe tbody tr th:only-of-type {\n        vertical-align: middle;\n    }\n\n    .dataframe tbody tr th {\n        vertical-align: top;\n    }\n\n    .dataframe thead th {\n        text-align: right;\n    }\n</style>\n<table border=\"1\" class=\"dataframe\">\n  <thead>\n    <tr style=\"text-align: right;\">\n      <th></th>\n      <th>Matricula</th>\n      <th>ID Materia</th>\n      <th>Fecha y hora de registro</th>\n      <th>Calificacion</th>\n      <th>Num. De oportunidad</th>\n      <th>Grupo</th>\n      <th>Semestre</th>\n      <th>Ingreso anterior (ya egresados)</th>\n      <th>Clave de materia</th>\n      <th>Nombre de la Materia</th>\n      <th>Creditos</th>\n      <th>Programa de estudios</th>\n      <th>Ciclo escolar de la materia</th>\n    </tr>\n  </thead>\n  <tbody>\n    <tr>\n      <th>0</th>\n      <td>D95080487</td>\n      <td>2347</td>\n      <td>17/06/2008 04:20:55 p.m.</td>\n      <td>90.0</td>\n      <td>1</td>\n      <td>DB1</td>\n      <td>2</td>\n      <td>23</td>\n      <td>DAB-03</td>\n      <td>SEMINARIO DE INVESTIGACION</td>\n      <td>26</td>\n      <td>DAB-2007-1-DOCTORADO EN CIENCIAS DE LOS ALIMEN...</td>\n      <td>20081</td>\n    </tr>\n    <tr>\n      <th>1</th>\n      <td>D08080704</td>\n      <td>2346</td>\n      <td>18/06/2008 12:27:05 p.m.</td>\n      <td>98.0</td>\n      <td>1</td>\n      <td>DB1</td>\n      <td>1</td>\n      <td>22</td>\n      <td>DAB-02</td>\n      <td>FUNDAMENTOS DE LA CIENCIA Y TECNOLOGIA DE LOS ...</td>\n      <td>6</td>\n      <td>DAB-2007-1-DOCTORADO EN CIENCIAS DE LOS ALIMEN...</td>\n      <td>20081</td>\n    </tr>\n    <tr>\n      <th>2</th>\n      <td>G08080750</td>\n      <td>2337</td>\n      <td>18/06/2008 08:24:38 p.m.</td>\n      <td>100.0</td>\n      <td>1</td>\n      <td>DB1</td>\n      <td>1</td>\n      <td>22</td>\n      <td>DAB-03</td>\n      <td>SEMINARIO DE INVESTIGACION</td>\n      <td>26</td>\n      <td>DAB-2007-1-DOCTORADO EN CIENCIAS DE LOS ALIMEN...</td>\n      <td>20081</td>\n    </tr>\n    <tr>\n      <th>3</th>\n      <td>G08080716</td>\n      <td>2336</td>\n      <td>24/06/2008 07:37:51 p.m.</td>\n      <td>95.0</td>\n      <td>1</td>\n      <td>DB1</td>\n      <td>1</td>\n      <td>22</td>\n      <td>DAB-01</td>\n      <td>CIENCIA,TECNOLOGIA, SOCIEDAD  E INNOVACION</td>\n      <td>3</td>\n      <td>DAB-2007-1-DOCTORADO EN CIENCIAS DE LOS ALIMEN...</td>\n      <td>20081</td>\n    </tr>\n    <tr>\n      <th>4</th>\n      <td>D08080704</td>\n      <td>2345</td>\n      <td>24/06/2008 07:23:46 p.m.</td>\n      <td>100.0</td>\n      <td>1</td>\n      <td>DB1</td>\n      <td>1</td>\n      <td>22</td>\n      <td>DAB-01</td>\n      <td>CIENCIA,TECNOLOGIA, SOCIEDAD  E INNOVACION</td>\n      <td>3</td>\n      <td>DAB-2007-1-DOCTORADO EN CIENCIAS DE LOS ALIMEN...</td>\n      <td>20081</td>\n    </tr>\n  </tbody>\n</table>\n</div>"
     },
     "execution_count": 2,
     "metadata": {},
     "output_type": "execute_result"
    }
   ],
   "source": [
    "df = pd.read_csv(\"NewInfo_Academica2.csv\")\n",
    "df.head(5)"
   ]
  },
  {
   "cell_type": "code",
   "execution_count": 24,
   "id": "f7ebc1e9-9ad9-4a49-b771-5db3880e1b10",
   "metadata": {},
   "outputs": [
    {
     "data": {
      "text/plain": "   Matricula  Calificacion  Num. De oportunidad Grupo  Semestre  \\\n0  D95080487          90.0                    1   DB1         2   \n1  D08080704          98.0                    1   DB1         1   \n2  G08080750         100.0                    1   DB1         1   \n3  G08080716          95.0                    1   DB1         1   \n4  D08080704         100.0                    1   DB1         1   \n\n                                Nombre de la Materia  Creditos  \\\n0                         SEMINARIO DE INVESTIGACION        26   \n1  FUNDAMENTOS DE LA CIENCIA Y TECNOLOGIA DE LOS ...         6   \n2                         SEMINARIO DE INVESTIGACION        26   \n3         CIENCIA,TECNOLOGIA, SOCIEDAD  E INNOVACION         3   \n4         CIENCIA,TECNOLOGIA, SOCIEDAD  E INNOVACION         3   \n\n                                Programa de estudios  \\\n0  DAB-2007-1-DOCTORADO EN CIENCIAS DE LOS ALIMEN...   \n1  DAB-2007-1-DOCTORADO EN CIENCIAS DE LOS ALIMEN...   \n2  DAB-2007-1-DOCTORADO EN CIENCIAS DE LOS ALIMEN...   \n3  DAB-2007-1-DOCTORADO EN CIENCIAS DE LOS ALIMEN...   \n4  DAB-2007-1-DOCTORADO EN CIENCIAS DE LOS ALIMEN...   \n\n   Ciclo escolar de la materia  \n0                        20081  \n1                        20081  \n2                        20081  \n3                        20081  \n4                        20081  ",
      "text/html": "<div>\n<style scoped>\n    .dataframe tbody tr th:only-of-type {\n        vertical-align: middle;\n    }\n\n    .dataframe tbody tr th {\n        vertical-align: top;\n    }\n\n    .dataframe thead th {\n        text-align: right;\n    }\n</style>\n<table border=\"1\" class=\"dataframe\">\n  <thead>\n    <tr style=\"text-align: right;\">\n      <th></th>\n      <th>Matricula</th>\n      <th>Calificacion</th>\n      <th>Num. De oportunidad</th>\n      <th>Grupo</th>\n      <th>Semestre</th>\n      <th>Nombre de la Materia</th>\n      <th>Creditos</th>\n      <th>Programa de estudios</th>\n      <th>Ciclo escolar de la materia</th>\n    </tr>\n  </thead>\n  <tbody>\n    <tr>\n      <th>0</th>\n      <td>D95080487</td>\n      <td>90.0</td>\n      <td>1</td>\n      <td>DB1</td>\n      <td>2</td>\n      <td>SEMINARIO DE INVESTIGACION</td>\n      <td>26</td>\n      <td>DAB-2007-1-DOCTORADO EN CIENCIAS DE LOS ALIMEN...</td>\n      <td>20081</td>\n    </tr>\n    <tr>\n      <th>1</th>\n      <td>D08080704</td>\n      <td>98.0</td>\n      <td>1</td>\n      <td>DB1</td>\n      <td>1</td>\n      <td>FUNDAMENTOS DE LA CIENCIA Y TECNOLOGIA DE LOS ...</td>\n      <td>6</td>\n      <td>DAB-2007-1-DOCTORADO EN CIENCIAS DE LOS ALIMEN...</td>\n      <td>20081</td>\n    </tr>\n    <tr>\n      <th>2</th>\n      <td>G08080750</td>\n      <td>100.0</td>\n      <td>1</td>\n      <td>DB1</td>\n      <td>1</td>\n      <td>SEMINARIO DE INVESTIGACION</td>\n      <td>26</td>\n      <td>DAB-2007-1-DOCTORADO EN CIENCIAS DE LOS ALIMEN...</td>\n      <td>20081</td>\n    </tr>\n    <tr>\n      <th>3</th>\n      <td>G08080716</td>\n      <td>95.0</td>\n      <td>1</td>\n      <td>DB1</td>\n      <td>1</td>\n      <td>CIENCIA,TECNOLOGIA, SOCIEDAD  E INNOVACION</td>\n      <td>3</td>\n      <td>DAB-2007-1-DOCTORADO EN CIENCIAS DE LOS ALIMEN...</td>\n      <td>20081</td>\n    </tr>\n    <tr>\n      <th>4</th>\n      <td>D08080704</td>\n      <td>100.0</td>\n      <td>1</td>\n      <td>DB1</td>\n      <td>1</td>\n      <td>CIENCIA,TECNOLOGIA, SOCIEDAD  E INNOVACION</td>\n      <td>3</td>\n      <td>DAB-2007-1-DOCTORADO EN CIENCIAS DE LOS ALIMEN...</td>\n      <td>20081</td>\n    </tr>\n  </tbody>\n</table>\n</div>"
     },
     "execution_count": 24,
     "metadata": {},
     "output_type": "execute_result"
    }
   ],
   "source": [
    "newSets = df.filter(items=['Matricula', 'Calificacion','Num. De oportunidad','Grupo','Semestre','Nombre de la Materia','Creditos','Programa de estudios','Ciclo escolar de la materia']\n",
    "                    )\n",
    "newSets.head(5)"
   ]
  },
  {
   "cell_type": "code",
   "execution_count": 39,
   "outputs": [
    {
     "data": {
      "text/plain": "                                                    Matricula  Calificacion  \\\nPrograma de estudios                                                          \nDAB-2007-1-DOCTORADO EN CIENCIAS DE LOS ALIMENT...  D95080487          90.0   \nDAB-2007-1-DOCTORADO EN CIENCIAS DE LOS ALIMENT...  D08080704          98.0   \nDAB-2007-1-DOCTORADO EN CIENCIAS DE LOS ALIMENT...  G08080750         100.0   \nDAB-2007-1-DOCTORADO EN CIENCIAS DE LOS ALIMENT...  G08080716          95.0   \nDAB-2007-1-DOCTORADO EN CIENCIAS DE LOS ALIMENT...  D08080704         100.0   \n\n                                                    Num. De oportunidad Grupo  \\\nPrograma de estudios                                                            \nDAB-2007-1-DOCTORADO EN CIENCIAS DE LOS ALIMENT...                    1   DB1   \nDAB-2007-1-DOCTORADO EN CIENCIAS DE LOS ALIMENT...                    1   DB1   \nDAB-2007-1-DOCTORADO EN CIENCIAS DE LOS ALIMENT...                    1   DB1   \nDAB-2007-1-DOCTORADO EN CIENCIAS DE LOS ALIMENT...                    1   DB1   \nDAB-2007-1-DOCTORADO EN CIENCIAS DE LOS ALIMENT...                    1   DB1   \n\n                                                    Semestre  \\\nPrograma de estudios                                           \nDAB-2007-1-DOCTORADO EN CIENCIAS DE LOS ALIMENT...         2   \nDAB-2007-1-DOCTORADO EN CIENCIAS DE LOS ALIMENT...         1   \nDAB-2007-1-DOCTORADO EN CIENCIAS DE LOS ALIMENT...         1   \nDAB-2007-1-DOCTORADO EN CIENCIAS DE LOS ALIMENT...         1   \nDAB-2007-1-DOCTORADO EN CIENCIAS DE LOS ALIMENT...         1   \n\n                                                                                 Nombre de la Materia  \\\nPrograma de estudios                                                                                    \nDAB-2007-1-DOCTORADO EN CIENCIAS DE LOS ALIMENT...                         SEMINARIO DE INVESTIGACION   \nDAB-2007-1-DOCTORADO EN CIENCIAS DE LOS ALIMENT...  FUNDAMENTOS DE LA CIENCIA Y TECNOLOGIA DE LOS ...   \nDAB-2007-1-DOCTORADO EN CIENCIAS DE LOS ALIMENT...                         SEMINARIO DE INVESTIGACION   \nDAB-2007-1-DOCTORADO EN CIENCIAS DE LOS ALIMENT...         CIENCIA,TECNOLOGIA, SOCIEDAD  E INNOVACION   \nDAB-2007-1-DOCTORADO EN CIENCIAS DE LOS ALIMENT...         CIENCIA,TECNOLOGIA, SOCIEDAD  E INNOVACION   \n\n                                                    Creditos  \\\nPrograma de estudios                                           \nDAB-2007-1-DOCTORADO EN CIENCIAS DE LOS ALIMENT...        26   \nDAB-2007-1-DOCTORADO EN CIENCIAS DE LOS ALIMENT...         6   \nDAB-2007-1-DOCTORADO EN CIENCIAS DE LOS ALIMENT...        26   \nDAB-2007-1-DOCTORADO EN CIENCIAS DE LOS ALIMENT...         3   \nDAB-2007-1-DOCTORADO EN CIENCIAS DE LOS ALIMENT...         3   \n\n                                                    Ciclo escolar de la materia  \nPrograma de estudios                                                             \nDAB-2007-1-DOCTORADO EN CIENCIAS DE LOS ALIMENT...                        20081  \nDAB-2007-1-DOCTORADO EN CIENCIAS DE LOS ALIMENT...                        20081  \nDAB-2007-1-DOCTORADO EN CIENCIAS DE LOS ALIMENT...                        20081  \nDAB-2007-1-DOCTORADO EN CIENCIAS DE LOS ALIMENT...                        20081  \nDAB-2007-1-DOCTORADO EN CIENCIAS DE LOS ALIMENT...                        20081  ",
      "text/html": "<div>\n<style scoped>\n    .dataframe tbody tr th:only-of-type {\n        vertical-align: middle;\n    }\n\n    .dataframe tbody tr th {\n        vertical-align: top;\n    }\n\n    .dataframe thead th {\n        text-align: right;\n    }\n</style>\n<table border=\"1\" class=\"dataframe\">\n  <thead>\n    <tr style=\"text-align: right;\">\n      <th></th>\n      <th>Matricula</th>\n      <th>Calificacion</th>\n      <th>Num. De oportunidad</th>\n      <th>Grupo</th>\n      <th>Semestre</th>\n      <th>Nombre de la Materia</th>\n      <th>Creditos</th>\n      <th>Ciclo escolar de la materia</th>\n    </tr>\n    <tr>\n      <th>Programa de estudios</th>\n      <th></th>\n      <th></th>\n      <th></th>\n      <th></th>\n      <th></th>\n      <th></th>\n      <th></th>\n      <th></th>\n    </tr>\n  </thead>\n  <tbody>\n    <tr>\n      <th>DAB-2007-1-DOCTORADO EN CIENCIAS DE LOS ALIMENTOS Y BIOTECNOLOGIA</th>\n      <td>D95080487</td>\n      <td>90.0</td>\n      <td>1</td>\n      <td>DB1</td>\n      <td>2</td>\n      <td>SEMINARIO DE INVESTIGACION</td>\n      <td>26</td>\n      <td>20081</td>\n    </tr>\n    <tr>\n      <th>DAB-2007-1-DOCTORADO EN CIENCIAS DE LOS ALIMENTOS Y BIOTECNOLOGIA</th>\n      <td>D08080704</td>\n      <td>98.0</td>\n      <td>1</td>\n      <td>DB1</td>\n      <td>1</td>\n      <td>FUNDAMENTOS DE LA CIENCIA Y TECNOLOGIA DE LOS ...</td>\n      <td>6</td>\n      <td>20081</td>\n    </tr>\n    <tr>\n      <th>DAB-2007-1-DOCTORADO EN CIENCIAS DE LOS ALIMENTOS Y BIOTECNOLOGIA</th>\n      <td>G08080750</td>\n      <td>100.0</td>\n      <td>1</td>\n      <td>DB1</td>\n      <td>1</td>\n      <td>SEMINARIO DE INVESTIGACION</td>\n      <td>26</td>\n      <td>20081</td>\n    </tr>\n    <tr>\n      <th>DAB-2007-1-DOCTORADO EN CIENCIAS DE LOS ALIMENTOS Y BIOTECNOLOGIA</th>\n      <td>G08080716</td>\n      <td>95.0</td>\n      <td>1</td>\n      <td>DB1</td>\n      <td>1</td>\n      <td>CIENCIA,TECNOLOGIA, SOCIEDAD  E INNOVACION</td>\n      <td>3</td>\n      <td>20081</td>\n    </tr>\n    <tr>\n      <th>DAB-2007-1-DOCTORADO EN CIENCIAS DE LOS ALIMENTOS Y BIOTECNOLOGIA</th>\n      <td>D08080704</td>\n      <td>100.0</td>\n      <td>1</td>\n      <td>DB1</td>\n      <td>1</td>\n      <td>CIENCIA,TECNOLOGIA, SOCIEDAD  E INNOVACION</td>\n      <td>3</td>\n      <td>20081</td>\n    </tr>\n  </tbody>\n</table>\n</div>"
     },
     "execution_count": 39,
     "metadata": {},
     "output_type": "execute_result"
    }
   ],
   "source": [
    "newSets.set_index('Programa de estudios', inplace=True)\n",
    "newSets.head(5)"
   ],
   "metadata": {
    "collapsed": false
   }
  },
  {
   "cell_type": "code",
   "execution_count": 43,
   "outputs": [
    {
     "data": {
      "text/plain": "                                                    Matricula  Calificacion  \\\nPrograma de estudios                                                          \nISIC-1993-296-INGENIERÍA EN SISTEMAS COMPUTACIO...  E04081918          75.0   \nISIC-1993-296-INGENIERÍA EN SISTEMAS COMPUTACIO...  E04080538           NaN   \nISIC-1993-296-INGENIERÍA EN SISTEMAS COMPUTACIO...  E04080565          71.0   \nISIC-1993-296-INGENIERÍA EN SISTEMAS COMPUTACIO...  E03081837           NaN   \nISIC-1993-296-INGENIERÍA EN SISTEMAS COMPUTACIO...  E02081967           NaN   \n\n                                                    Num. De oportunidad Grupo  \\\nPrograma de estudios                                                            \nISIC-1993-296-INGENIERÍA EN SISTEMAS COMPUTACIO...                    1   6RS   \nISIC-1993-296-INGENIERÍA EN SISTEMAS COMPUTACIO...                    2   6RS   \nISIC-1993-296-INGENIERÍA EN SISTEMAS COMPUTACIO...                    2   6RS   \nISIC-1993-296-INGENIERÍA EN SISTEMAS COMPUTACIO...                    3   6RS   \nISIC-1993-296-INGENIERÍA EN SISTEMAS COMPUTACIO...                    2   6RS   \n\n                                                    Semestre  \\\nPrograma de estudios                                           \nISIC-1993-296-INGENIERÍA EN SISTEMAS COMPUTACIO...         6   \nISIC-1993-296-INGENIERÍA EN SISTEMAS COMPUTACIO...         6   \nISIC-1993-296-INGENIERÍA EN SISTEMAS COMPUTACIO...         6   \nISIC-1993-296-INGENIERÍA EN SISTEMAS COMPUTACIO...         6   \nISIC-1993-296-INGENIERÍA EN SISTEMAS COMPUTACIO...         6   \n\n                                                               Nombre de la Materia  \\\nPrograma de estudios                                                                  \nISIC-1993-296-INGENIERÍA EN SISTEMAS COMPUTACIO...      DESARROLLO DE EMPRENDEDORES   \nISIC-1993-296-INGENIERÍA EN SISTEMAS COMPUTACIO...            SISTEMAS OPERATIVOS I   \nISIC-1993-296-INGENIERÍA EN SISTEMAS COMPUTACIO...  ARQUITECTURA DE COMPUTADORAS II   \nISIC-1993-296-INGENIERÍA EN SISTEMAS COMPUTACIO...  ARQUITECTURA DE COMPUTADORAS II   \nISIC-1993-296-INGENIERÍA EN SISTEMAS COMPUTACIO...  ARQUITECTURA DE COMPUTADORAS II   \n\n                                                    Creditos  \\\nPrograma de estudios                                           \nISIC-1993-296-INGENIERÍA EN SISTEMAS COMPUTACIO...         8   \nISIC-1993-296-INGENIERÍA EN SISTEMAS COMPUTACIO...         8   \nISIC-1993-296-INGENIERÍA EN SISTEMAS COMPUTACIO...        10   \nISIC-1993-296-INGENIERÍA EN SISTEMAS COMPUTACIO...        10   \nISIC-1993-296-INGENIERÍA EN SISTEMAS COMPUTACIO...        10   \n\n                                                    Ciclo escolar de la materia  \nPrograma de estudios                                                             \nISIC-1993-296-INGENIERÍA EN SISTEMAS COMPUTACIO...                        20081  \nISIC-1993-296-INGENIERÍA EN SISTEMAS COMPUTACIO...                        20081  \nISIC-1993-296-INGENIERÍA EN SISTEMAS COMPUTACIO...                        20081  \nISIC-1993-296-INGENIERÍA EN SISTEMAS COMPUTACIO...                        20081  \nISIC-1993-296-INGENIERÍA EN SISTEMAS COMPUTACIO...                        20081  ",
      "text/html": "<div>\n<style scoped>\n    .dataframe tbody tr th:only-of-type {\n        vertical-align: middle;\n    }\n\n    .dataframe tbody tr th {\n        vertical-align: top;\n    }\n\n    .dataframe thead th {\n        text-align: right;\n    }\n</style>\n<table border=\"1\" class=\"dataframe\">\n  <thead>\n    <tr style=\"text-align: right;\">\n      <th></th>\n      <th>Matricula</th>\n      <th>Calificacion</th>\n      <th>Num. De oportunidad</th>\n      <th>Grupo</th>\n      <th>Semestre</th>\n      <th>Nombre de la Materia</th>\n      <th>Creditos</th>\n      <th>Ciclo escolar de la materia</th>\n    </tr>\n    <tr>\n      <th>Programa de estudios</th>\n      <th></th>\n      <th></th>\n      <th></th>\n      <th></th>\n      <th></th>\n      <th></th>\n      <th></th>\n      <th></th>\n    </tr>\n  </thead>\n  <tbody>\n    <tr>\n      <th>ISIC-1993-296-INGENIERÍA EN SISTEMAS COMPUTACIONALES</th>\n      <td>E04081918</td>\n      <td>75.0</td>\n      <td>1</td>\n      <td>6RS</td>\n      <td>6</td>\n      <td>DESARROLLO DE EMPRENDEDORES</td>\n      <td>8</td>\n      <td>20081</td>\n    </tr>\n    <tr>\n      <th>ISIC-1993-296-INGENIERÍA EN SISTEMAS COMPUTACIONALES</th>\n      <td>E04080538</td>\n      <td>NaN</td>\n      <td>2</td>\n      <td>6RS</td>\n      <td>6</td>\n      <td>SISTEMAS OPERATIVOS I</td>\n      <td>8</td>\n      <td>20081</td>\n    </tr>\n    <tr>\n      <th>ISIC-1993-296-INGENIERÍA EN SISTEMAS COMPUTACIONALES</th>\n      <td>E04080565</td>\n      <td>71.0</td>\n      <td>2</td>\n      <td>6RS</td>\n      <td>6</td>\n      <td>ARQUITECTURA DE COMPUTADORAS II</td>\n      <td>10</td>\n      <td>20081</td>\n    </tr>\n    <tr>\n      <th>ISIC-1993-296-INGENIERÍA EN SISTEMAS COMPUTACIONALES</th>\n      <td>E03081837</td>\n      <td>NaN</td>\n      <td>3</td>\n      <td>6RS</td>\n      <td>6</td>\n      <td>ARQUITECTURA DE COMPUTADORAS II</td>\n      <td>10</td>\n      <td>20081</td>\n    </tr>\n    <tr>\n      <th>ISIC-1993-296-INGENIERÍA EN SISTEMAS COMPUTACIONALES</th>\n      <td>E02081967</td>\n      <td>NaN</td>\n      <td>2</td>\n      <td>6RS</td>\n      <td>6</td>\n      <td>ARQUITECTURA DE COMPUTADORAS II</td>\n      <td>10</td>\n      <td>20081</td>\n    </tr>\n  </tbody>\n</table>\n</div>"
     },
     "execution_count": 43,
     "metadata": {},
     "output_type": "execute_result"
    }
   ],
   "source": [
    "NewDataSistemas = newSets.loc[['ISIC-1993-296-INGENIERÍA EN SISTEMAS COMPUTACIONALES','ISIC-2004-296-INGENIERÍA EN SISTEMAS COMPUTACIONALES','ISIC-2010-224-INGENIERÍA EN SISTEMAS COMPUTACIONALES']]\n",
    "NewDataSistemas.head(5)"
   ],
   "metadata": {
    "collapsed": false
   }
  },
  {
   "cell_type": "code",
   "execution_count": 45,
   "outputs": [],
   "source": [
    "NewDataSistemas.to_csv('Info_Sistemas.csv', index = True)"
   ],
   "metadata": {
    "collapsed": false
   }
  },
  {
   "cell_type": "markdown",
   "source": [
    "-------------------------------------------------"
   ],
   "metadata": {
    "collapsed": false
   }
  },
  {
   "cell_type": "markdown",
   "source": [
    "### Limpieza de datos"
   ],
   "metadata": {
    "collapsed": false
   }
  },
  {
   "cell_type": "code",
   "execution_count": 46,
   "outputs": [
    {
     "data": {
      "text/plain": "                                    Programa de estudios  Matricula  \\\n0      ISIC-1993-296-INGENIERÍA EN SISTEMAS COMPUTACI...  E04081918   \n1      ISIC-1993-296-INGENIERÍA EN SISTEMAS COMPUTACI...  E04080538   \n2      ISIC-1993-296-INGENIERÍA EN SISTEMAS COMPUTACI...  E04080565   \n3      ISIC-1993-296-INGENIERÍA EN SISTEMAS COMPUTACI...  E03081837   \n4      ISIC-1993-296-INGENIERÍA EN SISTEMAS COMPUTACI...  E02081967   \n...                                                  ...        ...   \n84601  ISIC-2010-224-INGENIERÍA EN SISTEMAS COMPUTACI...  E13080830   \n84602  ISIC-2010-224-INGENIERÍA EN SISTEMAS COMPUTACI...  E14081206   \n84603  ISIC-2010-224-INGENIERÍA EN SISTEMAS COMPUTACI...  E14081719   \n84604  ISIC-2010-224-INGENIERÍA EN SISTEMAS COMPUTACI...  E13080831   \n84605  ISIC-2010-224-INGENIERÍA EN SISTEMAS COMPUTACI...  E14080079   \n\n       Calificacion  Num. De oportunidad Grupo  Semestre  \\\n0              75.0                    1   6RS         6   \n1               NaN                    2   6RS         6   \n2              71.0                    2   6RS         6   \n3               NaN                    3   6RS         6   \n4               NaN                    2   6RS         6   \n...             ...                  ...   ...       ...   \n84601          80.0                    2   9S1         9   \n84602          87.0                    1   9S1         9   \n84603          91.0                    1   9S1         9   \n84604          76.0                    1   9S1         9   \n84605           NaN                    3   9S1         9   \n\n                  Nombre de la Materia  Creditos  Ciclo escolar de la materia  \n0          DESARROLLO DE EMPRENDEDORES         8                        20081  \n1                SISTEMAS OPERATIVOS I         8                        20081  \n2      ARQUITECTURA DE COMPUTADORAS II        10                        20081  \n3      ARQUITECTURA DE COMPUTADORAS II        10                        20081  \n4      ARQUITECTURA DE COMPUTADORAS II        10                        20081  \n...                                ...       ...                          ...  \n84601             DESARROLLO FRONT-END         5                        20182  \n84602             DESARROLLO FRONT-END         5                        20182  \n84603             DESARROLLO FRONT-END         5                        20182  \n84604             DESARROLLO FRONT-END         5                        20182  \n84605             DESARROLLO FRONT-END         5                        20182  \n\n[84606 rows x 9 columns]",
      "text/html": "<div>\n<style scoped>\n    .dataframe tbody tr th:only-of-type {\n        vertical-align: middle;\n    }\n\n    .dataframe tbody tr th {\n        vertical-align: top;\n    }\n\n    .dataframe thead th {\n        text-align: right;\n    }\n</style>\n<table border=\"1\" class=\"dataframe\">\n  <thead>\n    <tr style=\"text-align: right;\">\n      <th></th>\n      <th>Programa de estudios</th>\n      <th>Matricula</th>\n      <th>Calificacion</th>\n      <th>Num. De oportunidad</th>\n      <th>Grupo</th>\n      <th>Semestre</th>\n      <th>Nombre de la Materia</th>\n      <th>Creditos</th>\n      <th>Ciclo escolar de la materia</th>\n    </tr>\n  </thead>\n  <tbody>\n    <tr>\n      <th>0</th>\n      <td>ISIC-1993-296-INGENIERÍA EN SISTEMAS COMPUTACI...</td>\n      <td>E04081918</td>\n      <td>75.0</td>\n      <td>1</td>\n      <td>6RS</td>\n      <td>6</td>\n      <td>DESARROLLO DE EMPRENDEDORES</td>\n      <td>8</td>\n      <td>20081</td>\n    </tr>\n    <tr>\n      <th>1</th>\n      <td>ISIC-1993-296-INGENIERÍA EN SISTEMAS COMPUTACI...</td>\n      <td>E04080538</td>\n      <td>NaN</td>\n      <td>2</td>\n      <td>6RS</td>\n      <td>6</td>\n      <td>SISTEMAS OPERATIVOS I</td>\n      <td>8</td>\n      <td>20081</td>\n    </tr>\n    <tr>\n      <th>2</th>\n      <td>ISIC-1993-296-INGENIERÍA EN SISTEMAS COMPUTACI...</td>\n      <td>E04080565</td>\n      <td>71.0</td>\n      <td>2</td>\n      <td>6RS</td>\n      <td>6</td>\n      <td>ARQUITECTURA DE COMPUTADORAS II</td>\n      <td>10</td>\n      <td>20081</td>\n    </tr>\n    <tr>\n      <th>3</th>\n      <td>ISIC-1993-296-INGENIERÍA EN SISTEMAS COMPUTACI...</td>\n      <td>E03081837</td>\n      <td>NaN</td>\n      <td>3</td>\n      <td>6RS</td>\n      <td>6</td>\n      <td>ARQUITECTURA DE COMPUTADORAS II</td>\n      <td>10</td>\n      <td>20081</td>\n    </tr>\n    <tr>\n      <th>4</th>\n      <td>ISIC-1993-296-INGENIERÍA EN SISTEMAS COMPUTACI...</td>\n      <td>E02081967</td>\n      <td>NaN</td>\n      <td>2</td>\n      <td>6RS</td>\n      <td>6</td>\n      <td>ARQUITECTURA DE COMPUTADORAS II</td>\n      <td>10</td>\n      <td>20081</td>\n    </tr>\n    <tr>\n      <th>...</th>\n      <td>...</td>\n      <td>...</td>\n      <td>...</td>\n      <td>...</td>\n      <td>...</td>\n      <td>...</td>\n      <td>...</td>\n      <td>...</td>\n      <td>...</td>\n    </tr>\n    <tr>\n      <th>84601</th>\n      <td>ISIC-2010-224-INGENIERÍA EN SISTEMAS COMPUTACI...</td>\n      <td>E13080830</td>\n      <td>80.0</td>\n      <td>2</td>\n      <td>9S1</td>\n      <td>9</td>\n      <td>DESARROLLO FRONT-END</td>\n      <td>5</td>\n      <td>20182</td>\n    </tr>\n    <tr>\n      <th>84602</th>\n      <td>ISIC-2010-224-INGENIERÍA EN SISTEMAS COMPUTACI...</td>\n      <td>E14081206</td>\n      <td>87.0</td>\n      <td>1</td>\n      <td>9S1</td>\n      <td>9</td>\n      <td>DESARROLLO FRONT-END</td>\n      <td>5</td>\n      <td>20182</td>\n    </tr>\n    <tr>\n      <th>84603</th>\n      <td>ISIC-2010-224-INGENIERÍA EN SISTEMAS COMPUTACI...</td>\n      <td>E14081719</td>\n      <td>91.0</td>\n      <td>1</td>\n      <td>9S1</td>\n      <td>9</td>\n      <td>DESARROLLO FRONT-END</td>\n      <td>5</td>\n      <td>20182</td>\n    </tr>\n    <tr>\n      <th>84604</th>\n      <td>ISIC-2010-224-INGENIERÍA EN SISTEMAS COMPUTACI...</td>\n      <td>E13080831</td>\n      <td>76.0</td>\n      <td>1</td>\n      <td>9S1</td>\n      <td>9</td>\n      <td>DESARROLLO FRONT-END</td>\n      <td>5</td>\n      <td>20182</td>\n    </tr>\n    <tr>\n      <th>84605</th>\n      <td>ISIC-2010-224-INGENIERÍA EN SISTEMAS COMPUTACI...</td>\n      <td>E14080079</td>\n      <td>NaN</td>\n      <td>3</td>\n      <td>9S1</td>\n      <td>9</td>\n      <td>DESARROLLO FRONT-END</td>\n      <td>5</td>\n      <td>20182</td>\n    </tr>\n  </tbody>\n</table>\n<p>84606 rows × 9 columns</p>\n</div>"
     },
     "execution_count": 46,
     "metadata": {},
     "output_type": "execute_result"
    }
   ],
   "source": [
    "DatoSistemas = pd.read_csv(\"Info_Sistemas.csv\")\n",
    "DatoSistemas"
   ],
   "metadata": {
    "collapsed": false
   }
  },
  {
   "cell_type": "code",
   "execution_count": 51,
   "outputs": [
    {
     "data": {
      "text/plain": "       Programa de estudios  Matricula  Calificacion  Num. De oportunidad  \\\n0                     False      False         False                False   \n1                     False      False          True                False   \n2                     False      False         False                False   \n3                     False      False          True                False   \n4                     False      False          True                False   \n...                     ...        ...           ...                  ...   \n84601                 False      False         False                False   \n84602                 False      False         False                False   \n84603                 False      False         False                False   \n84604                 False      False         False                False   \n84605                 False      False          True                False   \n\n       Grupo  Semestre  Nombre de la Materia  Creditos  \\\n0      False     False                 False     False   \n1      False     False                 False     False   \n2      False     False                 False     False   \n3      False     False                 False     False   \n4      False     False                 False     False   \n...      ...       ...                   ...       ...   \n84601  False     False                 False     False   \n84602  False     False                 False     False   \n84603  False     False                 False     False   \n84604  False     False                 False     False   \n84605  False     False                 False     False   \n\n       Ciclo escolar de la materia  \n0                            False  \n1                            False  \n2                            False  \n3                            False  \n4                            False  \n...                            ...  \n84601                        False  \n84602                        False  \n84603                        False  \n84604                        False  \n84605                        False  \n\n[84606 rows x 9 columns]",
      "text/html": "<div>\n<style scoped>\n    .dataframe tbody tr th:only-of-type {\n        vertical-align: middle;\n    }\n\n    .dataframe tbody tr th {\n        vertical-align: top;\n    }\n\n    .dataframe thead th {\n        text-align: right;\n    }\n</style>\n<table border=\"1\" class=\"dataframe\">\n  <thead>\n    <tr style=\"text-align: right;\">\n      <th></th>\n      <th>Programa de estudios</th>\n      <th>Matricula</th>\n      <th>Calificacion</th>\n      <th>Num. De oportunidad</th>\n      <th>Grupo</th>\n      <th>Semestre</th>\n      <th>Nombre de la Materia</th>\n      <th>Creditos</th>\n      <th>Ciclo escolar de la materia</th>\n    </tr>\n  </thead>\n  <tbody>\n    <tr>\n      <th>0</th>\n      <td>False</td>\n      <td>False</td>\n      <td>False</td>\n      <td>False</td>\n      <td>False</td>\n      <td>False</td>\n      <td>False</td>\n      <td>False</td>\n      <td>False</td>\n    </tr>\n    <tr>\n      <th>1</th>\n      <td>False</td>\n      <td>False</td>\n      <td>True</td>\n      <td>False</td>\n      <td>False</td>\n      <td>False</td>\n      <td>False</td>\n      <td>False</td>\n      <td>False</td>\n    </tr>\n    <tr>\n      <th>2</th>\n      <td>False</td>\n      <td>False</td>\n      <td>False</td>\n      <td>False</td>\n      <td>False</td>\n      <td>False</td>\n      <td>False</td>\n      <td>False</td>\n      <td>False</td>\n    </tr>\n    <tr>\n      <th>3</th>\n      <td>False</td>\n      <td>False</td>\n      <td>True</td>\n      <td>False</td>\n      <td>False</td>\n      <td>False</td>\n      <td>False</td>\n      <td>False</td>\n      <td>False</td>\n    </tr>\n    <tr>\n      <th>4</th>\n      <td>False</td>\n      <td>False</td>\n      <td>True</td>\n      <td>False</td>\n      <td>False</td>\n      <td>False</td>\n      <td>False</td>\n      <td>False</td>\n      <td>False</td>\n    </tr>\n    <tr>\n      <th>...</th>\n      <td>...</td>\n      <td>...</td>\n      <td>...</td>\n      <td>...</td>\n      <td>...</td>\n      <td>...</td>\n      <td>...</td>\n      <td>...</td>\n      <td>...</td>\n    </tr>\n    <tr>\n      <th>84601</th>\n      <td>False</td>\n      <td>False</td>\n      <td>False</td>\n      <td>False</td>\n      <td>False</td>\n      <td>False</td>\n      <td>False</td>\n      <td>False</td>\n      <td>False</td>\n    </tr>\n    <tr>\n      <th>84602</th>\n      <td>False</td>\n      <td>False</td>\n      <td>False</td>\n      <td>False</td>\n      <td>False</td>\n      <td>False</td>\n      <td>False</td>\n      <td>False</td>\n      <td>False</td>\n    </tr>\n    <tr>\n      <th>84603</th>\n      <td>False</td>\n      <td>False</td>\n      <td>False</td>\n      <td>False</td>\n      <td>False</td>\n      <td>False</td>\n      <td>False</td>\n      <td>False</td>\n      <td>False</td>\n    </tr>\n    <tr>\n      <th>84604</th>\n      <td>False</td>\n      <td>False</td>\n      <td>False</td>\n      <td>False</td>\n      <td>False</td>\n      <td>False</td>\n      <td>False</td>\n      <td>False</td>\n      <td>False</td>\n    </tr>\n    <tr>\n      <th>84605</th>\n      <td>False</td>\n      <td>False</td>\n      <td>True</td>\n      <td>False</td>\n      <td>False</td>\n      <td>False</td>\n      <td>False</td>\n      <td>False</td>\n      <td>False</td>\n    </tr>\n  </tbody>\n</table>\n<p>84606 rows × 9 columns</p>\n</div>"
     },
     "execution_count": 51,
     "metadata": {},
     "output_type": "execute_result"
    }
   ],
   "source": [
    "DatoSistemas.isnull()"
   ],
   "metadata": {
    "collapsed": false
   }
  },
  {
   "cell_type": "code",
   "execution_count": 56,
   "outputs": [
    {
     "data": {
      "text/plain": "                                    Programa de estudios  Matricula  \\\n0      ISIC-1993-296-INGENIERÍA EN SISTEMAS COMPUTACI...  E04081918   \n1      ISIC-1993-296-INGENIERÍA EN SISTEMAS COMPUTACI...  E04080538   \n2      ISIC-1993-296-INGENIERÍA EN SISTEMAS COMPUTACI...  E04080565   \n3      ISIC-1993-296-INGENIERÍA EN SISTEMAS COMPUTACI...  E03081837   \n4      ISIC-1993-296-INGENIERÍA EN SISTEMAS COMPUTACI...  E02081967   \n...                                                  ...        ...   \n84601  ISIC-2010-224-INGENIERÍA EN SISTEMAS COMPUTACI...  E13080830   \n84602  ISIC-2010-224-INGENIERÍA EN SISTEMAS COMPUTACI...  E14081206   \n84603  ISIC-2010-224-INGENIERÍA EN SISTEMAS COMPUTACI...  E14081719   \n84604  ISIC-2010-224-INGENIERÍA EN SISTEMAS COMPUTACI...  E13080831   \n84605  ISIC-2010-224-INGENIERÍA EN SISTEMAS COMPUTACI...  E14080079   \n\n       Calificacion  Num. De oportunidad Grupo  Semestre  \\\n0              75.0                    1   6RS         6   \n1               0.0                    2   6RS         6   \n2              71.0                    2   6RS         6   \n3               0.0                    3   6RS         6   \n4               0.0                    2   6RS         6   \n...             ...                  ...   ...       ...   \n84601          80.0                    2   9S1         9   \n84602          87.0                    1   9S1         9   \n84603          91.0                    1   9S1         9   \n84604          76.0                    1   9S1         9   \n84605           0.0                    3   9S1         9   \n\n                  Nombre de la Materia  Creditos  Ciclo escolar de la materia  \n0          DESARROLLO DE EMPRENDEDORES         8                        20081  \n1                SISTEMAS OPERATIVOS I         8                        20081  \n2      ARQUITECTURA DE COMPUTADORAS II        10                        20081  \n3      ARQUITECTURA DE COMPUTADORAS II        10                        20081  \n4      ARQUITECTURA DE COMPUTADORAS II        10                        20081  \n...                                ...       ...                          ...  \n84601             DESARROLLO FRONT-END         5                        20182  \n84602             DESARROLLO FRONT-END         5                        20182  \n84603             DESARROLLO FRONT-END         5                        20182  \n84604             DESARROLLO FRONT-END         5                        20182  \n84605             DESARROLLO FRONT-END         5                        20182  \n\n[84606 rows x 9 columns]",
      "text/html": "<div>\n<style scoped>\n    .dataframe tbody tr th:only-of-type {\n        vertical-align: middle;\n    }\n\n    .dataframe tbody tr th {\n        vertical-align: top;\n    }\n\n    .dataframe thead th {\n        text-align: right;\n    }\n</style>\n<table border=\"1\" class=\"dataframe\">\n  <thead>\n    <tr style=\"text-align: right;\">\n      <th></th>\n      <th>Programa de estudios</th>\n      <th>Matricula</th>\n      <th>Calificacion</th>\n      <th>Num. De oportunidad</th>\n      <th>Grupo</th>\n      <th>Semestre</th>\n      <th>Nombre de la Materia</th>\n      <th>Creditos</th>\n      <th>Ciclo escolar de la materia</th>\n    </tr>\n  </thead>\n  <tbody>\n    <tr>\n      <th>0</th>\n      <td>ISIC-1993-296-INGENIERÍA EN SISTEMAS COMPUTACI...</td>\n      <td>E04081918</td>\n      <td>75.0</td>\n      <td>1</td>\n      <td>6RS</td>\n      <td>6</td>\n      <td>DESARROLLO DE EMPRENDEDORES</td>\n      <td>8</td>\n      <td>20081</td>\n    </tr>\n    <tr>\n      <th>1</th>\n      <td>ISIC-1993-296-INGENIERÍA EN SISTEMAS COMPUTACI...</td>\n      <td>E04080538</td>\n      <td>0.0</td>\n      <td>2</td>\n      <td>6RS</td>\n      <td>6</td>\n      <td>SISTEMAS OPERATIVOS I</td>\n      <td>8</td>\n      <td>20081</td>\n    </tr>\n    <tr>\n      <th>2</th>\n      <td>ISIC-1993-296-INGENIERÍA EN SISTEMAS COMPUTACI...</td>\n      <td>E04080565</td>\n      <td>71.0</td>\n      <td>2</td>\n      <td>6RS</td>\n      <td>6</td>\n      <td>ARQUITECTURA DE COMPUTADORAS II</td>\n      <td>10</td>\n      <td>20081</td>\n    </tr>\n    <tr>\n      <th>3</th>\n      <td>ISIC-1993-296-INGENIERÍA EN SISTEMAS COMPUTACI...</td>\n      <td>E03081837</td>\n      <td>0.0</td>\n      <td>3</td>\n      <td>6RS</td>\n      <td>6</td>\n      <td>ARQUITECTURA DE COMPUTADORAS II</td>\n      <td>10</td>\n      <td>20081</td>\n    </tr>\n    <tr>\n      <th>4</th>\n      <td>ISIC-1993-296-INGENIERÍA EN SISTEMAS COMPUTACI...</td>\n      <td>E02081967</td>\n      <td>0.0</td>\n      <td>2</td>\n      <td>6RS</td>\n      <td>6</td>\n      <td>ARQUITECTURA DE COMPUTADORAS II</td>\n      <td>10</td>\n      <td>20081</td>\n    </tr>\n    <tr>\n      <th>...</th>\n      <td>...</td>\n      <td>...</td>\n      <td>...</td>\n      <td>...</td>\n      <td>...</td>\n      <td>...</td>\n      <td>...</td>\n      <td>...</td>\n      <td>...</td>\n    </tr>\n    <tr>\n      <th>84601</th>\n      <td>ISIC-2010-224-INGENIERÍA EN SISTEMAS COMPUTACI...</td>\n      <td>E13080830</td>\n      <td>80.0</td>\n      <td>2</td>\n      <td>9S1</td>\n      <td>9</td>\n      <td>DESARROLLO FRONT-END</td>\n      <td>5</td>\n      <td>20182</td>\n    </tr>\n    <tr>\n      <th>84602</th>\n      <td>ISIC-2010-224-INGENIERÍA EN SISTEMAS COMPUTACI...</td>\n      <td>E14081206</td>\n      <td>87.0</td>\n      <td>1</td>\n      <td>9S1</td>\n      <td>9</td>\n      <td>DESARROLLO FRONT-END</td>\n      <td>5</td>\n      <td>20182</td>\n    </tr>\n    <tr>\n      <th>84603</th>\n      <td>ISIC-2010-224-INGENIERÍA EN SISTEMAS COMPUTACI...</td>\n      <td>E14081719</td>\n      <td>91.0</td>\n      <td>1</td>\n      <td>9S1</td>\n      <td>9</td>\n      <td>DESARROLLO FRONT-END</td>\n      <td>5</td>\n      <td>20182</td>\n    </tr>\n    <tr>\n      <th>84604</th>\n      <td>ISIC-2010-224-INGENIERÍA EN SISTEMAS COMPUTACI...</td>\n      <td>E13080831</td>\n      <td>76.0</td>\n      <td>1</td>\n      <td>9S1</td>\n      <td>9</td>\n      <td>DESARROLLO FRONT-END</td>\n      <td>5</td>\n      <td>20182</td>\n    </tr>\n    <tr>\n      <th>84605</th>\n      <td>ISIC-2010-224-INGENIERÍA EN SISTEMAS COMPUTACI...</td>\n      <td>E14080079</td>\n      <td>0.0</td>\n      <td>3</td>\n      <td>9S1</td>\n      <td>9</td>\n      <td>DESARROLLO FRONT-END</td>\n      <td>5</td>\n      <td>20182</td>\n    </tr>\n  </tbody>\n</table>\n<p>84606 rows × 9 columns</p>\n</div>"
     },
     "execution_count": 56,
     "metadata": {},
     "output_type": "execute_result"
    }
   ],
   "source": [
    "DatoSistemasV2 = DatoSistemas.fillna(0)\n",
    "DatoSistemasV2"
   ],
   "metadata": {
    "collapsed": false
   }
  },
  {
   "cell_type": "code",
   "execution_count": 56,
   "outputs": [],
   "source": [],
   "metadata": {
    "collapsed": false
   }
  },
  {
   "cell_type": "code",
   "execution_count": 58,
   "outputs": [],
   "source": [
    "DatoSistemasV2.to_csv('Info_SistemasV2.csv', index = True)"
   ],
   "metadata": {
    "collapsed": false
   }
  },
  {
   "cell_type": "code",
   "execution_count": 55,
   "outputs": [
    {
     "data": {
      "text/plain": "                                    Programa de estudios  Matricula  \\\n0      ISIC-1993-296-INGENIERÍA EN SISTEMAS COMPUTACI...  E04081918   \n1      ISIC-1993-296-INGENIERÍA EN SISTEMAS COMPUTACI...  E04080538   \n2      ISIC-1993-296-INGENIERÍA EN SISTEMAS COMPUTACI...  E04080565   \n3      ISIC-1993-296-INGENIERÍA EN SISTEMAS COMPUTACI...  E03081837   \n4      ISIC-1993-296-INGENIERÍA EN SISTEMAS COMPUTACI...  E02081967   \n...                                                  ...        ...   \n84601  ISIC-2010-224-INGENIERÍA EN SISTEMAS COMPUTACI...  E13080830   \n84602  ISIC-2010-224-INGENIERÍA EN SISTEMAS COMPUTACI...  E14081206   \n84603  ISIC-2010-224-INGENIERÍA EN SISTEMAS COMPUTACI...  E14081719   \n84604  ISIC-2010-224-INGENIERÍA EN SISTEMAS COMPUTACI...  E13080831   \n84605  ISIC-2010-224-INGENIERÍA EN SISTEMAS COMPUTACI...  E14080079   \n\n       Calificacion  Num. De oportunidad Grupo  Semestre  \\\n0              75.0                    1   6RS         6   \n1               NaN                    2   6RS         6   \n2              71.0                    2   6RS         6   \n3               NaN                    3   6RS         6   \n4               NaN                    2   6RS         6   \n...             ...                  ...   ...       ...   \n84601          80.0                    2   9S1         9   \n84602          87.0                    1   9S1         9   \n84603          91.0                    1   9S1         9   \n84604          76.0                    1   9S1         9   \n84605           NaN                    3   9S1         9   \n\n                  Nombre de la Materia  Creditos  Ciclo escolar de la materia  \n0          DESARROLLO DE EMPRENDEDORES         8                        20081  \n1                SISTEMAS OPERATIVOS I         8                        20081  \n2      ARQUITECTURA DE COMPUTADORAS II        10                        20081  \n3      ARQUITECTURA DE COMPUTADORAS II        10                        20081  \n4      ARQUITECTURA DE COMPUTADORAS II        10                        20081  \n...                                ...       ...                          ...  \n84601             DESARROLLO FRONT-END         5                        20182  \n84602             DESARROLLO FRONT-END         5                        20182  \n84603             DESARROLLO FRONT-END         5                        20182  \n84604             DESARROLLO FRONT-END         5                        20182  \n84605             DESARROLLO FRONT-END         5                        20182  \n\n[84606 rows x 9 columns]",
      "text/html": "<div>\n<style scoped>\n    .dataframe tbody tr th:only-of-type {\n        vertical-align: middle;\n    }\n\n    .dataframe tbody tr th {\n        vertical-align: top;\n    }\n\n    .dataframe thead th {\n        text-align: right;\n    }\n</style>\n<table border=\"1\" class=\"dataframe\">\n  <thead>\n    <tr style=\"text-align: right;\">\n      <th></th>\n      <th>Programa de estudios</th>\n      <th>Matricula</th>\n      <th>Calificacion</th>\n      <th>Num. De oportunidad</th>\n      <th>Grupo</th>\n      <th>Semestre</th>\n      <th>Nombre de la Materia</th>\n      <th>Creditos</th>\n      <th>Ciclo escolar de la materia</th>\n    </tr>\n  </thead>\n  <tbody>\n    <tr>\n      <th>0</th>\n      <td>ISIC-1993-296-INGENIERÍA EN SISTEMAS COMPUTACI...</td>\n      <td>E04081918</td>\n      <td>75.0</td>\n      <td>1</td>\n      <td>6RS</td>\n      <td>6</td>\n      <td>DESARROLLO DE EMPRENDEDORES</td>\n      <td>8</td>\n      <td>20081</td>\n    </tr>\n    <tr>\n      <th>1</th>\n      <td>ISIC-1993-296-INGENIERÍA EN SISTEMAS COMPUTACI...</td>\n      <td>E04080538</td>\n      <td>NaN</td>\n      <td>2</td>\n      <td>6RS</td>\n      <td>6</td>\n      <td>SISTEMAS OPERATIVOS I</td>\n      <td>8</td>\n      <td>20081</td>\n    </tr>\n    <tr>\n      <th>2</th>\n      <td>ISIC-1993-296-INGENIERÍA EN SISTEMAS COMPUTACI...</td>\n      <td>E04080565</td>\n      <td>71.0</td>\n      <td>2</td>\n      <td>6RS</td>\n      <td>6</td>\n      <td>ARQUITECTURA DE COMPUTADORAS II</td>\n      <td>10</td>\n      <td>20081</td>\n    </tr>\n    <tr>\n      <th>3</th>\n      <td>ISIC-1993-296-INGENIERÍA EN SISTEMAS COMPUTACI...</td>\n      <td>E03081837</td>\n      <td>NaN</td>\n      <td>3</td>\n      <td>6RS</td>\n      <td>6</td>\n      <td>ARQUITECTURA DE COMPUTADORAS II</td>\n      <td>10</td>\n      <td>20081</td>\n    </tr>\n    <tr>\n      <th>4</th>\n      <td>ISIC-1993-296-INGENIERÍA EN SISTEMAS COMPUTACI...</td>\n      <td>E02081967</td>\n      <td>NaN</td>\n      <td>2</td>\n      <td>6RS</td>\n      <td>6</td>\n      <td>ARQUITECTURA DE COMPUTADORAS II</td>\n      <td>10</td>\n      <td>20081</td>\n    </tr>\n    <tr>\n      <th>...</th>\n      <td>...</td>\n      <td>...</td>\n      <td>...</td>\n      <td>...</td>\n      <td>...</td>\n      <td>...</td>\n      <td>...</td>\n      <td>...</td>\n      <td>...</td>\n    </tr>\n    <tr>\n      <th>84601</th>\n      <td>ISIC-2010-224-INGENIERÍA EN SISTEMAS COMPUTACI...</td>\n      <td>E13080830</td>\n      <td>80.0</td>\n      <td>2</td>\n      <td>9S1</td>\n      <td>9</td>\n      <td>DESARROLLO FRONT-END</td>\n      <td>5</td>\n      <td>20182</td>\n    </tr>\n    <tr>\n      <th>84602</th>\n      <td>ISIC-2010-224-INGENIERÍA EN SISTEMAS COMPUTACI...</td>\n      <td>E14081206</td>\n      <td>87.0</td>\n      <td>1</td>\n      <td>9S1</td>\n      <td>9</td>\n      <td>DESARROLLO FRONT-END</td>\n      <td>5</td>\n      <td>20182</td>\n    </tr>\n    <tr>\n      <th>84603</th>\n      <td>ISIC-2010-224-INGENIERÍA EN SISTEMAS COMPUTACI...</td>\n      <td>E14081719</td>\n      <td>91.0</td>\n      <td>1</td>\n      <td>9S1</td>\n      <td>9</td>\n      <td>DESARROLLO FRONT-END</td>\n      <td>5</td>\n      <td>20182</td>\n    </tr>\n    <tr>\n      <th>84604</th>\n      <td>ISIC-2010-224-INGENIERÍA EN SISTEMAS COMPUTACI...</td>\n      <td>E13080831</td>\n      <td>76.0</td>\n      <td>1</td>\n      <td>9S1</td>\n      <td>9</td>\n      <td>DESARROLLO FRONT-END</td>\n      <td>5</td>\n      <td>20182</td>\n    </tr>\n    <tr>\n      <th>84605</th>\n      <td>ISIC-2010-224-INGENIERÍA EN SISTEMAS COMPUTACI...</td>\n      <td>E14080079</td>\n      <td>NaN</td>\n      <td>3</td>\n      <td>9S1</td>\n      <td>9</td>\n      <td>DESARROLLO FRONT-END</td>\n      <td>5</td>\n      <td>20182</td>\n    </tr>\n  </tbody>\n</table>\n<p>84606 rows × 9 columns</p>\n</div>"
     },
     "execution_count": 55,
     "metadata": {},
     "output_type": "execute_result"
    }
   ],
   "source": [
    "DatoSistemas"
   ],
   "metadata": {
    "collapsed": false
   }
  },
  {
   "cell_type": "code",
   "execution_count": null,
   "outputs": [],
   "source": [],
   "metadata": {
    "collapsed": false
   }
  }
 ],
 "metadata": {
  "kernelspec": {
   "display_name": "Python 3 (ipykernel)",
   "language": "python",
   "name": "python3"
  },
  "language_info": {
   "codemirror_mode": {
    "name": "ipython",
    "version": 3
   },
   "file_extension": ".py",
   "mimetype": "text/x-python",
   "name": "python",
   "nbconvert_exporter": "python",
   "pygments_lexer": "ipython3",
   "version": "3.10.6"
  }
 },
 "nbformat": 4,
 "nbformat_minor": 5
}
