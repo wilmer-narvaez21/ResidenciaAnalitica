{
 "cells": [
  {
   "cell_type": "code",
   "execution_count": 2,
   "id": "1adddf56-5592-4568-ba77-bc780c20e013",
   "metadata": {},
   "outputs": [],
   "source": [
    "import pandas as pd"
   ]
  },
  {
   "cell_type": "code",
   "execution_count": 3,
   "id": "a1bc6eff-8091-458e-a0f1-25876040d019",
   "metadata": {},
   "outputs": [
    {
     "data": {
      "text/plain": "   Matricula  ID Materia  Fecha y hora de registro  Calificacion  \\\n0  D95080487        2347  17/06/2008 04:20:55 p.m.          90.0   \n1  D08080704        2346  18/06/2008 12:27:05 p.m.          98.0   \n2  G08080750        2337  18/06/2008 08:24:38 p.m.         100.0   \n3  G08080716        2336  24/06/2008 07:37:51 p.m.          95.0   \n4  D08080704        2345  24/06/2008 07:23:46 p.m.         100.0   \n\n   Num. De oportunidad Grupo  Semestre  Ingreso anterior (ya egresados)  \\\n0                    1   DB1         2                               23   \n1                    1   DB1         1                               22   \n2                    1   DB1         1                               22   \n3                    1   DB1         1                               22   \n4                    1   DB1         1                               22   \n\n  Clave de materia                               Nombre de la Materia  \\\n0           DAB-03                         SEMINARIO DE INVESTIGACION   \n1           DAB-02  FUNDAMENTOS DE LA CIENCIA Y TECNOLOGIA DE LOS ...   \n2           DAB-03                         SEMINARIO DE INVESTIGACION   \n3           DAB-01         CIENCIA,TECNOLOGIA, SOCIEDAD  E INNOVACION   \n4           DAB-01         CIENCIA,TECNOLOGIA, SOCIEDAD  E INNOVACION   \n\n   Creditos                               Programa de estudios  \\\n0        26  DAB-2007-1-DOCTORADO EN CIENCIAS DE LOS ALIMEN...   \n1         6  DAB-2007-1-DOCTORADO EN CIENCIAS DE LOS ALIMEN...   \n2        26  DAB-2007-1-DOCTORADO EN CIENCIAS DE LOS ALIMEN...   \n3         3  DAB-2007-1-DOCTORADO EN CIENCIAS DE LOS ALIMEN...   \n4         3  DAB-2007-1-DOCTORADO EN CIENCIAS DE LOS ALIMEN...   \n\n   Ciclo escolar de la materia  \n0                        20081  \n1                        20081  \n2                        20081  \n3                        20081  \n4                        20081  ",
      "text/html": "<div>\n<style scoped>\n    .dataframe tbody tr th:only-of-type {\n        vertical-align: middle;\n    }\n\n    .dataframe tbody tr th {\n        vertical-align: top;\n    }\n\n    .dataframe thead th {\n        text-align: right;\n    }\n</style>\n<table border=\"1\" class=\"dataframe\">\n  <thead>\n    <tr style=\"text-align: right;\">\n      <th></th>\n      <th>Matricula</th>\n      <th>ID Materia</th>\n      <th>Fecha y hora de registro</th>\n      <th>Calificacion</th>\n      <th>Num. De oportunidad</th>\n      <th>Grupo</th>\n      <th>Semestre</th>\n      <th>Ingreso anterior (ya egresados)</th>\n      <th>Clave de materia</th>\n      <th>Nombre de la Materia</th>\n      <th>Creditos</th>\n      <th>Programa de estudios</th>\n      <th>Ciclo escolar de la materia</th>\n    </tr>\n  </thead>\n  <tbody>\n    <tr>\n      <th>0</th>\n      <td>D95080487</td>\n      <td>2347</td>\n      <td>17/06/2008 04:20:55 p.m.</td>\n      <td>90.0</td>\n      <td>1</td>\n      <td>DB1</td>\n      <td>2</td>\n      <td>23</td>\n      <td>DAB-03</td>\n      <td>SEMINARIO DE INVESTIGACION</td>\n      <td>26</td>\n      <td>DAB-2007-1-DOCTORADO EN CIENCIAS DE LOS ALIMEN...</td>\n      <td>20081</td>\n    </tr>\n    <tr>\n      <th>1</th>\n      <td>D08080704</td>\n      <td>2346</td>\n      <td>18/06/2008 12:27:05 p.m.</td>\n      <td>98.0</td>\n      <td>1</td>\n      <td>DB1</td>\n      <td>1</td>\n      <td>22</td>\n      <td>DAB-02</td>\n      <td>FUNDAMENTOS DE LA CIENCIA Y TECNOLOGIA DE LOS ...</td>\n      <td>6</td>\n      <td>DAB-2007-1-DOCTORADO EN CIENCIAS DE LOS ALIMEN...</td>\n      <td>20081</td>\n    </tr>\n    <tr>\n      <th>2</th>\n      <td>G08080750</td>\n      <td>2337</td>\n      <td>18/06/2008 08:24:38 p.m.</td>\n      <td>100.0</td>\n      <td>1</td>\n      <td>DB1</td>\n      <td>1</td>\n      <td>22</td>\n      <td>DAB-03</td>\n      <td>SEMINARIO DE INVESTIGACION</td>\n      <td>26</td>\n      <td>DAB-2007-1-DOCTORADO EN CIENCIAS DE LOS ALIMEN...</td>\n      <td>20081</td>\n    </tr>\n    <tr>\n      <th>3</th>\n      <td>G08080716</td>\n      <td>2336</td>\n      <td>24/06/2008 07:37:51 p.m.</td>\n      <td>95.0</td>\n      <td>1</td>\n      <td>DB1</td>\n      <td>1</td>\n      <td>22</td>\n      <td>DAB-01</td>\n      <td>CIENCIA,TECNOLOGIA, SOCIEDAD  E INNOVACION</td>\n      <td>3</td>\n      <td>DAB-2007-1-DOCTORADO EN CIENCIAS DE LOS ALIMEN...</td>\n      <td>20081</td>\n    </tr>\n    <tr>\n      <th>4</th>\n      <td>D08080704</td>\n      <td>2345</td>\n      <td>24/06/2008 07:23:46 p.m.</td>\n      <td>100.0</td>\n      <td>1</td>\n      <td>DB1</td>\n      <td>1</td>\n      <td>22</td>\n      <td>DAB-01</td>\n      <td>CIENCIA,TECNOLOGIA, SOCIEDAD  E INNOVACION</td>\n      <td>3</td>\n      <td>DAB-2007-1-DOCTORADO EN CIENCIAS DE LOS ALIMEN...</td>\n      <td>20081</td>\n    </tr>\n  </tbody>\n</table>\n</div>"
     },
     "execution_count": 3,
     "metadata": {},
     "output_type": "execute_result"
    }
   ],
   "source": [
    "df = pd.read_csv(\"NewInfo_Academica2.csv\")\n",
    "df.head(5)"
   ]
  },
  {
   "cell_type": "code",
   "execution_count": 6,
   "id": "f7ebc1e9-9ad9-4a49-b771-5db3880e1b10",
   "metadata": {},
   "outputs": [
    {
     "data": {
      "text/plain": "        Matricula  Calificacion  Num. De oportunidad Grupo  Semestre  \\\n0       D95080487          90.0                    1   DB1         2   \n1       D08080704          98.0                    1   DB1         1   \n2       G08080750         100.0                    1   DB1         1   \n3       G08080716          95.0                    1   DB1         1   \n4       D08080704         100.0                    1   DB1         1   \n...           ...           ...                  ...   ...       ...   \n634839  E16080048          95.0                    1   5L1         5   \n634840  E16080051          82.0                    1   5L1         5   \n634841  E16080019          87.0                    1   5L1         5   \n634842  E15081751          80.0                    1   5L1         5   \n634843  E15081164          87.0                    1   5L1         5   \n\n                                     Nombre de la Materia  Creditos  \\\n0                              SEMINARIO DE INVESTIGACION        26   \n1       FUNDAMENTOS DE LA CIENCIA Y TECNOLOGIA DE LOS ...         6   \n2                              SEMINARIO DE INVESTIGACION        26   \n3              CIENCIA,TECNOLOGIA, SOCIEDAD  E INNOVACION         3   \n4              CIENCIA,TECNOLOGIA, SOCIEDAD  E INNOVACION         3   \n...                                                   ...       ...   \n634839          GESTIÓN ESTRATÉGICA DEL CAPITAL HUMANO II         5   \n634840          GESTIÓN ESTRATÉGICA DEL CAPITAL HUMANO II         5   \n634841          GESTIÓN ESTRATÉGICA DEL CAPITAL HUMANO II         5   \n634842          GESTIÓN ESTRATÉGICA DEL CAPITAL HUMANO II         5   \n634843          GESTIÓN ESTRATÉGICA DEL CAPITAL HUMANO II         5   \n\n                                     Programa de estudios  \\\n0       DAB-2007-1-DOCTORADO EN CIENCIAS DE LOS ALIMEN...   \n1       DAB-2007-1-DOCTORADO EN CIENCIAS DE LOS ALIMEN...   \n2       DAB-2007-1-DOCTORADO EN CIENCIAS DE LOS ALIMEN...   \n3       DAB-2007-1-DOCTORADO EN CIENCIAS DE LOS ALIMEN...   \n4       DAB-2007-1-DOCTORADO EN CIENCIAS DE LOS ALIMEN...   \n...                                                   ...   \n634839       LADM-2010-234-LICENCIATURA EN ADMINISTRACIÓN   \n634840       LADM-2010-234-LICENCIATURA EN ADMINISTRACIÓN   \n634841       LADM-2010-234-LICENCIATURA EN ADMINISTRACIÓN   \n634842       LADM-2010-234-LICENCIATURA EN ADMINISTRACIÓN   \n634843       LADM-2010-234-LICENCIATURA EN ADMINISTRACIÓN   \n\n        Ciclo escolar de la materia  \n0                             20081  \n1                             20081  \n2                             20081  \n3                             20081  \n4                             20081  \n...                             ...  \n634839                        20182  \n634840                        20182  \n634841                        20182  \n634842                        20182  \n634843                        20182  \n\n[634844 rows x 9 columns]",
      "text/html": "<div>\n<style scoped>\n    .dataframe tbody tr th:only-of-type {\n        vertical-align: middle;\n    }\n\n    .dataframe tbody tr th {\n        vertical-align: top;\n    }\n\n    .dataframe thead th {\n        text-align: right;\n    }\n</style>\n<table border=\"1\" class=\"dataframe\">\n  <thead>\n    <tr style=\"text-align: right;\">\n      <th></th>\n      <th>Matricula</th>\n      <th>Calificacion</th>\n      <th>Num. De oportunidad</th>\n      <th>Grupo</th>\n      <th>Semestre</th>\n      <th>Nombre de la Materia</th>\n      <th>Creditos</th>\n      <th>Programa de estudios</th>\n      <th>Ciclo escolar de la materia</th>\n    </tr>\n  </thead>\n  <tbody>\n    <tr>\n      <th>0</th>\n      <td>D95080487</td>\n      <td>90.0</td>\n      <td>1</td>\n      <td>DB1</td>\n      <td>2</td>\n      <td>SEMINARIO DE INVESTIGACION</td>\n      <td>26</td>\n      <td>DAB-2007-1-DOCTORADO EN CIENCIAS DE LOS ALIMEN...</td>\n      <td>20081</td>\n    </tr>\n    <tr>\n      <th>1</th>\n      <td>D08080704</td>\n      <td>98.0</td>\n      <td>1</td>\n      <td>DB1</td>\n      <td>1</td>\n      <td>FUNDAMENTOS DE LA CIENCIA Y TECNOLOGIA DE LOS ...</td>\n      <td>6</td>\n      <td>DAB-2007-1-DOCTORADO EN CIENCIAS DE LOS ALIMEN...</td>\n      <td>20081</td>\n    </tr>\n    <tr>\n      <th>2</th>\n      <td>G08080750</td>\n      <td>100.0</td>\n      <td>1</td>\n      <td>DB1</td>\n      <td>1</td>\n      <td>SEMINARIO DE INVESTIGACION</td>\n      <td>26</td>\n      <td>DAB-2007-1-DOCTORADO EN CIENCIAS DE LOS ALIMEN...</td>\n      <td>20081</td>\n    </tr>\n    <tr>\n      <th>3</th>\n      <td>G08080716</td>\n      <td>95.0</td>\n      <td>1</td>\n      <td>DB1</td>\n      <td>1</td>\n      <td>CIENCIA,TECNOLOGIA, SOCIEDAD  E INNOVACION</td>\n      <td>3</td>\n      <td>DAB-2007-1-DOCTORADO EN CIENCIAS DE LOS ALIMEN...</td>\n      <td>20081</td>\n    </tr>\n    <tr>\n      <th>4</th>\n      <td>D08080704</td>\n      <td>100.0</td>\n      <td>1</td>\n      <td>DB1</td>\n      <td>1</td>\n      <td>CIENCIA,TECNOLOGIA, SOCIEDAD  E INNOVACION</td>\n      <td>3</td>\n      <td>DAB-2007-1-DOCTORADO EN CIENCIAS DE LOS ALIMEN...</td>\n      <td>20081</td>\n    </tr>\n    <tr>\n      <th>...</th>\n      <td>...</td>\n      <td>...</td>\n      <td>...</td>\n      <td>...</td>\n      <td>...</td>\n      <td>...</td>\n      <td>...</td>\n      <td>...</td>\n      <td>...</td>\n    </tr>\n    <tr>\n      <th>634839</th>\n      <td>E16080048</td>\n      <td>95.0</td>\n      <td>1</td>\n      <td>5L1</td>\n      <td>5</td>\n      <td>GESTIÓN ESTRATÉGICA DEL CAPITAL HUMANO II</td>\n      <td>5</td>\n      <td>LADM-2010-234-LICENCIATURA EN ADMINISTRACIÓN</td>\n      <td>20182</td>\n    </tr>\n    <tr>\n      <th>634840</th>\n      <td>E16080051</td>\n      <td>82.0</td>\n      <td>1</td>\n      <td>5L1</td>\n      <td>5</td>\n      <td>GESTIÓN ESTRATÉGICA DEL CAPITAL HUMANO II</td>\n      <td>5</td>\n      <td>LADM-2010-234-LICENCIATURA EN ADMINISTRACIÓN</td>\n      <td>20182</td>\n    </tr>\n    <tr>\n      <th>634841</th>\n      <td>E16080019</td>\n      <td>87.0</td>\n      <td>1</td>\n      <td>5L1</td>\n      <td>5</td>\n      <td>GESTIÓN ESTRATÉGICA DEL CAPITAL HUMANO II</td>\n      <td>5</td>\n      <td>LADM-2010-234-LICENCIATURA EN ADMINISTRACIÓN</td>\n      <td>20182</td>\n    </tr>\n    <tr>\n      <th>634842</th>\n      <td>E15081751</td>\n      <td>80.0</td>\n      <td>1</td>\n      <td>5L1</td>\n      <td>5</td>\n      <td>GESTIÓN ESTRATÉGICA DEL CAPITAL HUMANO II</td>\n      <td>5</td>\n      <td>LADM-2010-234-LICENCIATURA EN ADMINISTRACIÓN</td>\n      <td>20182</td>\n    </tr>\n    <tr>\n      <th>634843</th>\n      <td>E15081164</td>\n      <td>87.0</td>\n      <td>1</td>\n      <td>5L1</td>\n      <td>5</td>\n      <td>GESTIÓN ESTRATÉGICA DEL CAPITAL HUMANO II</td>\n      <td>5</td>\n      <td>LADM-2010-234-LICENCIATURA EN ADMINISTRACIÓN</td>\n      <td>20182</td>\n    </tr>\n  </tbody>\n</table>\n<p>634844 rows × 9 columns</p>\n</div>"
     },
     "execution_count": 6,
     "metadata": {},
     "output_type": "execute_result"
    }
   ],
   "source": [
    "newSets = df.filter(items=['Matricula', 'Calificacion','Num. De oportunidad','Grupo','Semestre','Nombre de la Materia','Creditos','Programa de estudios','Ciclo escolar de la materia'])\n",
    "newSets"
   ]
  },
  {
   "cell_type": "code",
   "execution_count": null,
   "outputs": [],
   "source": [],
   "metadata": {
    "collapsed": false
   }
  },
  {
   "cell_type": "code",
   "execution_count": null,
   "outputs": [],
   "source": [
    "df.to_csv('NewInfo_Academica2.csv', index = False)"
   ],
   "metadata": {
    "collapsed": false
   }
  }
 ],
 "metadata": {
  "kernelspec": {
   "display_name": "Python 3 (ipykernel)",
   "language": "python",
   "name": "python3"
  },
  "language_info": {
   "codemirror_mode": {
    "name": "ipython",
    "version": 3
   },
   "file_extension": ".py",
   "mimetype": "text/x-python",
   "name": "python",
   "nbconvert_exporter": "python",
   "pygments_lexer": "ipython3",
   "version": "3.10.6"
  }
 },
 "nbformat": 4,
 "nbformat_minor": 5
}
